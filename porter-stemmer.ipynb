{
  "nbformat": 4,
  "nbformat_minor": 0,
  "metadata": {
    "colab": {
      "provenance": []
    },
    "kernelspec": {
      "name": "python3",
      "display_name": "Python 3"
    },
    "language_info": {
      "name": "python"
    }
  },
  "cells": [
    {
      "cell_type": "markdown",
      "source": [
        "Scratch"
      ],
      "metadata": {
        "id": "TbDXb_HhX3Tv"
      }
    },
    {
      "cell_type": "code",
      "source": [
        "def suffix(word, suf):\n",
        "  if word[len(word)-len(suf):] == suf:\n",
        "    return True\n",
        "  else:\n",
        "    return False"
      ],
      "metadata": {
        "id": "23qNzjFbKYyt"
      },
      "execution_count": null,
      "outputs": []
    },
    {
      "cell_type": "code",
      "source": [
        "suffix(\"NIDHI\", \"HI\")"
      ],
      "metadata": {
        "colab": {
          "base_uri": "https://localhost:8080/"
        },
        "id": "e5IbCo1ETeQe",
        "outputId": "3106883c-8f1c-4442-98b4-5661c102610d"
      },
      "execution_count": null,
      "outputs": [
        {
          "output_type": "execute_result",
          "data": {
            "text/plain": [
              "True"
            ]
          },
          "metadata": {},
          "execution_count": 2
        }
      ]
    },
    {
      "cell_type": "code",
      "source": [
        "def stem(word, suf):\n",
        "  return word[:len(word)-len(suf)]"
      ],
      "metadata": {
        "id": "oZkCA-9RLJzj"
      },
      "execution_count": null,
      "outputs": []
    },
    {
      "cell_type": "code",
      "source": [
        "stem(\"NIDHI\", \"HI\")"
      ],
      "metadata": {
        "colab": {
          "base_uri": "https://localhost:8080/",
          "height": 36
        },
        "id": "aCxT2FuNP7Ci",
        "outputId": "21551001-b884-4484-9786-7511cf2421f8"
      },
      "execution_count": null,
      "outputs": [
        {
          "output_type": "execute_result",
          "data": {
            "text/plain": [
              "'NID'"
            ],
            "application/vnd.google.colaboratory.intrinsic+json": {
              "type": "string"
            }
          },
          "metadata": {},
          "execution_count": 4
        }
      ]
    },
    {
      "cell_type": "code",
      "source": [
        "def stemstring(stem):\n",
        "  denotion = ''\n",
        "  for i, letter in enumerate(stem):\n",
        "    if letter == 'A' or letter == 'E' or letter == 'I' or letter == 'O' or letter == 'U':\n",
        "      denotion += 'V'\n",
        "    elif i>0 and letter == 'Y' and denotion[i-1]=='C':\n",
        "        denotion += 'V'\n",
        "    else:\n",
        "      denotion += 'C'\n",
        "  return denotion"
      ],
      "metadata": {
        "id": "XjgPfOS1XsuI"
      },
      "execution_count": null,
      "outputs": []
    },
    {
      "cell_type": "code",
      "source": [
        "def denotion(stem):\n",
        "  den = stemstring(stem)\n",
        "  ans = ''\n",
        "  for i, d in enumerate(den):\n",
        "    if i>0:\n",
        "      if d != den[i-1]:\n",
        "        if ans == '':\n",
        "          ans += den[i-1]\n",
        "        ans += d\n",
        "  return ans"
      ],
      "metadata": {
        "id": "RCRh4865WGxW"
      },
      "execution_count": null,
      "outputs": []
    },
    {
      "cell_type": "code",
      "source": [
        "denotion(\"PLAY\")"
      ],
      "metadata": {
        "colab": {
          "base_uri": "https://localhost:8080/",
          "height": 36
        },
        "id": "5Ni1Qs78Nigk",
        "outputId": "1d3ee5c6-548c-4ba5-de47-b31756eba171"
      },
      "execution_count": null,
      "outputs": [
        {
          "output_type": "execute_result",
          "data": {
            "text/plain": [
              "'CVC'"
            ],
            "application/vnd.google.colaboratory.intrinsic+json": {
              "type": "string"
            }
          },
          "metadata": {},
          "execution_count": 7
        }
      ]
    },
    {
      "cell_type": "code",
      "source": [
        "denotion(\"YAY\")"
      ],
      "metadata": {
        "colab": {
          "base_uri": "https://localhost:8080/",
          "height": 36
        },
        "id": "WEPXPOG35ALW",
        "outputId": "1a486ce8-f43c-4053-b82d-258168d2b47a"
      },
      "execution_count": null,
      "outputs": [
        {
          "output_type": "execute_result",
          "data": {
            "text/plain": [
              "'CVC'"
            ],
            "application/vnd.google.colaboratory.intrinsic+json": {
              "type": "string"
            }
          },
          "metadata": {},
          "execution_count": 8
        }
      ]
    },
    {
      "cell_type": "code",
      "source": [
        "denotion(\"FARIN\")"
      ],
      "metadata": {
        "colab": {
          "base_uri": "https://localhost:8080/",
          "height": 36
        },
        "id": "4w637i5yNxeL",
        "outputId": "3e3b9e48-e682-4040-fb31-0b3ad27ec8ca"
      },
      "execution_count": null,
      "outputs": [
        {
          "output_type": "execute_result",
          "data": {
            "text/plain": [
              "'CVCVC'"
            ],
            "application/vnd.google.colaboratory.intrinsic+json": {
              "type": "string"
            }
          },
          "metadata": {},
          "execution_count": 9
        }
      ]
    },
    {
      "cell_type": "code",
      "source": [
        "denotion(\"TREE\")"
      ],
      "metadata": {
        "colab": {
          "base_uri": "https://localhost:8080/",
          "height": 36
        },
        "id": "JoC1kMx5O_5f",
        "outputId": "775c93d7-de8c-49a4-c697-0a30d3a14c8a"
      },
      "execution_count": null,
      "outputs": [
        {
          "output_type": "execute_result",
          "data": {
            "text/plain": [
              "'CV'"
            ],
            "application/vnd.google.colaboratory.intrinsic+json": {
              "type": "string"
            }
          },
          "metadata": {},
          "execution_count": 10
        }
      ]
    },
    {
      "cell_type": "code",
      "source": [
        "def m(stem):\n",
        "  d = denotion(stem)\n",
        "  i = 0\n",
        "  count = 0\n",
        "  while i<len(d)-1:\n",
        "    if d[i]=='V' and d[i+1]=='C':\n",
        "      count += 1\n",
        "      i+=2\n",
        "    else:\n",
        "      i+=1\n",
        "  return count"
      ],
      "metadata": {
        "id": "J1MofY_5LlM_"
      },
      "execution_count": null,
      "outputs": []
    },
    {
      "cell_type": "code",
      "source": [
        "m(\"TREE\")"
      ],
      "metadata": {
        "colab": {
          "base_uri": "https://localhost:8080/"
        },
        "id": "EIuqiI68OuTE",
        "outputId": "eee50838-a2a0-4fe7-d831-a582506e76e9"
      },
      "execution_count": null,
      "outputs": [
        {
          "output_type": "execute_result",
          "data": {
            "text/plain": [
              "0"
            ]
          },
          "metadata": {},
          "execution_count": 12
        }
      ]
    },
    {
      "cell_type": "code",
      "source": [
        "m(\"TROUBLES\")"
      ],
      "metadata": {
        "colab": {
          "base_uri": "https://localhost:8080/"
        },
        "id": "P0rKmML1W0jK",
        "outputId": "67b3fb63-9cde-41ca-9e24-4a45d67bb9b6"
      },
      "execution_count": null,
      "outputs": [
        {
          "output_type": "execute_result",
          "data": {
            "text/plain": [
              "2"
            ]
          },
          "metadata": {},
          "execution_count": 13
        }
      ]
    },
    {
      "cell_type": "code",
      "source": [
        "def star_d(stem):\n",
        "  if stem[-1]==stem[-2] and denotion(stem)[-1]=='C':\n",
        "    return True\n",
        "  else:\n",
        "    return False"
      ],
      "metadata": {
        "id": "XkEXkDbFUVnE"
      },
      "execution_count": null,
      "outputs": []
    },
    {
      "cell_type": "code",
      "source": [
        "star_d(\"STARTT\")"
      ],
      "metadata": {
        "colab": {
          "base_uri": "https://localhost:8080/"
        },
        "id": "tHqUZtngWNZ0",
        "outputId": "9223ef8b-e182-4436-cae0-42be3f180841"
      },
      "execution_count": null,
      "outputs": [
        {
          "output_type": "execute_result",
          "data": {
            "text/plain": [
              "True"
            ]
          },
          "metadata": {},
          "execution_count": 15
        }
      ]
    },
    {
      "cell_type": "code",
      "source": [
        "star_d(\"STAA\")"
      ],
      "metadata": {
        "colab": {
          "base_uri": "https://localhost:8080/"
        },
        "id": "IIq175TtWT4E",
        "outputId": "bab1455c-f2b1-427f-8f17-5616ef28c909"
      },
      "execution_count": null,
      "outputs": [
        {
          "output_type": "execute_result",
          "data": {
            "text/plain": [
              "False"
            ]
          },
          "metadata": {},
          "execution_count": 16
        }
      ]
    },
    {
      "cell_type": "code",
      "source": [
        "star_d(\"STA\")"
      ],
      "metadata": {
        "colab": {
          "base_uri": "https://localhost:8080/"
        },
        "id": "sUFC-f3xZ-Xh",
        "outputId": "2a3ad6fd-cf79-4243-c8ee-30a6aed62a9e"
      },
      "execution_count": null,
      "outputs": [
        {
          "output_type": "execute_result",
          "data": {
            "text/plain": [
              "False"
            ]
          },
          "metadata": {},
          "execution_count": 17
        }
      ]
    },
    {
      "cell_type": "code",
      "source": [
        "def star_v_star(stem):\n",
        "  d = denotion(stem)\n",
        "  for i in d:\n",
        "    if i == 'V':\n",
        "      return True\n",
        "  return False"
      ],
      "metadata": {
        "id": "bYHsbY7BUZAr"
      },
      "execution_count": null,
      "outputs": []
    },
    {
      "cell_type": "code",
      "source": [
        "star_v_star(\"PLAY\")"
      ],
      "metadata": {
        "colab": {
          "base_uri": "https://localhost:8080/"
        },
        "id": "DsDptN3yWwFp",
        "outputId": "42d611d0-75ca-4a05-e41e-5bfc9d4fdb0c"
      },
      "execution_count": null,
      "outputs": [
        {
          "output_type": "execute_result",
          "data": {
            "text/plain": [
              "True"
            ]
          },
          "metadata": {},
          "execution_count": 19
        }
      ]
    },
    {
      "cell_type": "code",
      "source": [
        "star_v_star(\"BL\")"
      ],
      "metadata": {
        "colab": {
          "base_uri": "https://localhost:8080/"
        },
        "id": "pHi5RM-WW_0X",
        "outputId": "1f3a7f4a-95ab-4b07-efb0-f4117599921e"
      },
      "execution_count": null,
      "outputs": [
        {
          "output_type": "execute_result",
          "data": {
            "text/plain": [
              "False"
            ]
          },
          "metadata": {},
          "execution_count": 20
        }
      ]
    },
    {
      "cell_type": "code",
      "source": [
        "def star_o(stem):\n",
        "  pattern = stemstring(stem)\n",
        "  if pattern[-3:] == 'CVC' and stem[-1]!='W' and stem[-1]!='X' and stem[-1]!='Y':\n",
        "    return True\n",
        "  return False"
      ],
      "metadata": {
        "id": "d-is1g9NUoor"
      },
      "execution_count": null,
      "outputs": []
    },
    {
      "cell_type": "code",
      "source": [
        "star_o(\"LEEWIL\")"
      ],
      "metadata": {
        "colab": {
          "base_uri": "https://localhost:8080/"
        },
        "id": "0f9HE0ETZDfB",
        "outputId": "bef65e5e-926a-47b9-e1ff-1d84bab4564e"
      },
      "execution_count": null,
      "outputs": [
        {
          "output_type": "execute_result",
          "data": {
            "text/plain": [
              "True"
            ]
          },
          "metadata": {},
          "execution_count": 22
        }
      ]
    },
    {
      "cell_type": "code",
      "source": [
        "star_o(\"LEEWIX\")"
      ],
      "metadata": {
        "colab": {
          "base_uri": "https://localhost:8080/"
        },
        "id": "Ieaz-csYZH8w",
        "outputId": "652363ff-7148-4b70-da9f-33943cf61318"
      },
      "execution_count": null,
      "outputs": [
        {
          "output_type": "execute_result",
          "data": {
            "text/plain": [
              "False"
            ]
          },
          "metadata": {},
          "execution_count": 23
        }
      ]
    },
    {
      "cell_type": "code",
      "source": [
        "def star_letter(stem, letter):\n",
        "  if stem[-1] == letter:\n",
        "    return True\n",
        "  else:\n",
        "    return False"
      ],
      "metadata": {
        "id": "C0epSLBxVVgY"
      },
      "execution_count": null,
      "outputs": []
    },
    {
      "cell_type": "code",
      "source": [
        "star_letter(\"FARIN\", \"N\")"
      ],
      "metadata": {
        "colab": {
          "base_uri": "https://localhost:8080/"
        },
        "id": "LtfGzEsMgA8G",
        "outputId": "83587e8a-9349-4fc0-9fb8-779ef2eba914"
      },
      "execution_count": null,
      "outputs": [
        {
          "output_type": "execute_result",
          "data": {
            "text/plain": [
              "True"
            ]
          },
          "metadata": {},
          "execution_count": 25
        }
      ]
    },
    {
      "cell_type": "code",
      "execution_count": null,
      "metadata": {
        "id": "c6BlvELDI6fJ"
      },
      "outputs": [],
      "source": [
        "def step1a(word):\n",
        "  new_word = ''\n",
        "  if suffix(word, \"SSES\"):\n",
        "    new_word = stem(word, \"SSES\")+\"SS\"\n",
        "  elif suffix(word, \"IES\"):\n",
        "    new_word = stem(word, \"IES\")+\"I\"\n",
        "  elif suffix(word, \"SS\"):\n",
        "    new_word = word\n",
        "  elif suffix(word, \"S\"):\n",
        "    new_word = stem(word, \"S\")\n",
        "  else:\n",
        "    new_word = word\n",
        "  return new_word"
      ]
    },
    {
      "cell_type": "code",
      "source": [
        "step1a(\"CARESS\")"
      ],
      "metadata": {
        "colab": {
          "base_uri": "https://localhost:8080/",
          "height": 36
        },
        "id": "BdAmmPOwTuTV",
        "outputId": "b2576287-371a-4fee-ee92-8f8ef3b6c43f"
      },
      "execution_count": null,
      "outputs": [
        {
          "output_type": "execute_result",
          "data": {
            "text/plain": [
              "'CARESS'"
            ],
            "application/vnd.google.colaboratory.intrinsic+json": {
              "type": "string"
            }
          },
          "metadata": {},
          "execution_count": 27
        }
      ]
    },
    {
      "cell_type": "code",
      "source": [
        "def step1b(word):\n",
        "  new_word = ''\n",
        "  flag = 0\n",
        "  if suffix(word, \"EED\"):\n",
        "    st = stem(word, \"EED\")\n",
        "    if m(st)>0:\n",
        "      new_word = st + \"EE\"\n",
        "  elif suffix(word, \"ED\"):\n",
        "    st = stem(word, \"ED\")\n",
        "    if star_v_star(st):\n",
        "      new_word = st\n",
        "      flag = 1\n",
        "  elif suffix(word, \"ING\"):\n",
        "    st = stem(word, \"ING\")\n",
        "    if star_v_star(st):\n",
        "      new_word = st\n",
        "      flag = 1\n",
        "  elif suffix(word, \"S\"):\n",
        "    new_word = stem(word, \"S\")\n",
        "  else:\n",
        "    new_word = word\n",
        "\n",
        "  if flag == 1:\n",
        "    if suffix(new_word, \"AT\") or suffix(new_word, \"BL\") or suffix(new_word, \"IZ\"):\n",
        "      new_word += \"E\"\n",
        "    elif suffix(word, \"S\"):\n",
        "      new_word = stem(word, \"S\")\n",
        "    elif star_d(new_word) and not (star_letter(new_word,'L') or star_letter(new_word,'S') or star_letter(new_word,'Z')):\n",
        "      new_word = new_word[:len(new_word)-1]\n",
        "    elif star_o(new_word) and m(new_word)==1:\n",
        "      new_word += \"E\"\n",
        "\n",
        "  return new_word"
      ],
      "metadata": {
        "id": "UPi2FXf4J1-N"
      },
      "execution_count": null,
      "outputs": []
    },
    {
      "cell_type": "code",
      "source": [
        "step1b(\"TROUBLED\")"
      ],
      "metadata": {
        "colab": {
          "base_uri": "https://localhost:8080/",
          "height": 36
        },
        "id": "QSvbL_rtbLvn",
        "outputId": "ceaebe64-b6d3-476e-9027-0741650bfc74"
      },
      "execution_count": null,
      "outputs": [
        {
          "output_type": "execute_result",
          "data": {
            "text/plain": [
              "'TROUBLE'"
            ],
            "application/vnd.google.colaboratory.intrinsic+json": {
              "type": "string"
            }
          },
          "metadata": {},
          "execution_count": 29
        }
      ]
    },
    {
      "cell_type": "code",
      "source": [
        "step1b(\"HOPPING\")"
      ],
      "metadata": {
        "colab": {
          "base_uri": "https://localhost:8080/",
          "height": 36
        },
        "id": "Y4pQrOpNb5h8",
        "outputId": "b39511bf-4dd7-44e2-f782-f7211b5cc57d"
      },
      "execution_count": null,
      "outputs": [
        {
          "output_type": "execute_result",
          "data": {
            "text/plain": [
              "'HOP'"
            ],
            "application/vnd.google.colaboratory.intrinsic+json": {
              "type": "string"
            }
          },
          "metadata": {},
          "execution_count": 30
        }
      ]
    },
    {
      "cell_type": "code",
      "source": [
        "step1b(\"FIZZED\")"
      ],
      "metadata": {
        "colab": {
          "base_uri": "https://localhost:8080/",
          "height": 36
        },
        "id": "X-2UbGxEcEIJ",
        "outputId": "5dad58db-b57f-4d2c-a9c2-acce44d96c83"
      },
      "execution_count": null,
      "outputs": [
        {
          "output_type": "execute_result",
          "data": {
            "text/plain": [
              "'FIZZ'"
            ],
            "application/vnd.google.colaboratory.intrinsic+json": {
              "type": "string"
            }
          },
          "metadata": {},
          "execution_count": 31
        }
      ]
    },
    {
      "cell_type": "code",
      "source": [
        "def step1c(word):\n",
        "  if suffix(word, \"Y\") and star_v_star(stem(word, \"Y\")):\n",
        "    return stem(word, \"Y\")+\"I\"\n",
        "  return word"
      ],
      "metadata": {
        "id": "uce3R1fTJ5Fh"
      },
      "execution_count": null,
      "outputs": []
    },
    {
      "cell_type": "code",
      "source": [
        "step1c(\"HAPPY\")"
      ],
      "metadata": {
        "colab": {
          "base_uri": "https://localhost:8080/",
          "height": 36
        },
        "id": "9Evpu8SfezV0",
        "outputId": "709293d1-13b4-449a-f443-23f74573429a"
      },
      "execution_count": null,
      "outputs": [
        {
          "output_type": "execute_result",
          "data": {
            "text/plain": [
              "'HAPPI'"
            ],
            "application/vnd.google.colaboratory.intrinsic+json": {
              "type": "string"
            }
          },
          "metadata": {},
          "execution_count": 33
        }
      ]
    },
    {
      "cell_type": "code",
      "source": [
        "step1c(\"SKY\")"
      ],
      "metadata": {
        "colab": {
          "base_uri": "https://localhost:8080/",
          "height": 36
        },
        "id": "rvP4n3GGe9ns",
        "outputId": "6abe86e1-cd2a-4901-f9e0-c7b9a5d4c959"
      },
      "execution_count": null,
      "outputs": [
        {
          "output_type": "execute_result",
          "data": {
            "text/plain": [
              "'SKY'"
            ],
            "application/vnd.google.colaboratory.intrinsic+json": {
              "type": "string"
            }
          },
          "metadata": {},
          "execution_count": 34
        }
      ]
    },
    {
      "cell_type": "code",
      "source": [
        "def step2(word):\n",
        "  if suffix(word, \"ATIONAL\") and m(stem(word, \"ATIONAL\"))>0:\n",
        "    return stem(word, \"ATIONAL\")+\"ATE\"\n",
        "  elif suffix(word, \"TIONAL\") and m(stem(word, \"TIONAL\"))>0:\n",
        "    return stem(word, \"TIONAL\")+\"TION\"\n",
        "  elif suffix(word, \"ENCI\") and m(stem(word, \"ENCI\"))>0:\n",
        "    return stem(word, \"ENCI\")+\"ENCE\"\n",
        "  elif suffix(word, \"IZER\") and m(stem(word, \"IZER\"))>0:\n",
        "    return stem(word, \"IZER\")+\"IZE\"\n",
        "  elif suffix(word, \"ABLI\") and m(stem(word, \"ABLI\"))>0:\n",
        "      return stem(word, \"ABLI\")+\"ABLE\"\n",
        "  elif suffix(word, \"ALLI\") and m(stem(word, \"ALLI\"))>0:\n",
        "      return stem(word, \"ALLI\")+\"AL\"\n",
        "  elif suffix(word, \"ENTLI\") and m(stem(word, \"ENTLI\"))>0:\n",
        "      return stem(word, \"ENTLI\")+\"ENT\"\n",
        "  elif suffix(word, \"ELI\") and m(stem(word, \"ELI\"))>0:\n",
        "      return stem(word, \"ELI\")+\"E\"\n",
        "  elif suffix(word, \"OUSLI\") and m(stem(word, \"OUSLI\"))>0:\n",
        "      return stem(word, \"OUSLI\")+\"OUS\"\n",
        "  elif suffix(word, \"IZATION\") and m(stem(word, \"IZATION\"))>0:\n",
        "      return stem(word, \"IZATION\")+\"IZE\"\n",
        "  elif suffix(word, \"ATION\") and m(stem(word, \"ATION\"))>0:\n",
        "      return stem(word, \"ATION\")+\"ATE\"\n",
        "  elif suffix(word, \"ATOR\") and m(stem(word, \"ATOR\"))>0:\n",
        "      return stem(word, \"ATOR\")+\"ATE\"\n",
        "  elif suffix(word, \"ALISM\") and m(stem(word, \"ALISM\"))>0:\n",
        "      return stem(word, \"ALISM\")+\"AL\"\n",
        "  elif suffix(word, \"IVENESS\") and m(stem(word, \"IVENESS\"))>0:\n",
        "      return stem(word, \"IVENESS\")+\"IVE\"\n",
        "  elif suffix(word, \"FULNESS\") and m(stem(word, \"FULNESS\"))>0:\n",
        "      return stem(word, \"FULNESS\")+\"FUL\"\n",
        "  elif suffix(word, \"OUSNESS\") and m(stem(word, \"OUSNESS\"))>0:\n",
        "      return stem(word, \"OUSNESS\")+\"OUS\"\n",
        "  elif suffix(word, \"ALITI\") and m(stem(word, \"ALITI\"))>0:\n",
        "      return stem(word, \"ALITI\")+\"AL\"\n",
        "  elif suffix(word, \"IVITI\") and m(stem(word, \"IVITI\"))>0:\n",
        "      return stem(word, \"IVITI\")+\"IVE\"\n",
        "  elif suffix(word, \"BILITI\") and m(stem(word, \"BILITI\"))>0:\n",
        "      return stem(word, \"BILITI\")+\"BLE\"\n",
        "  else:\n",
        "      return word"
      ],
      "metadata": {
        "id": "zx1YwwCiJ_LO"
      },
      "execution_count": null,
      "outputs": []
    },
    {
      "cell_type": "code",
      "source": [
        "def step3(word):\n",
        "  if suffix(word, \"ICATE\") and m(stem(word, \"ICATE\")) > 0:\n",
        "    return stem(word, \"ICATE\") + \"IC\"\n",
        "  elif suffix(word, \"ATIVE\") and m(stem(word, \"ATIVE\")) > 0:\n",
        "      return stem(word, \"ATIVE\")\n",
        "  elif suffix(word, \"ALIZE\") and m(stem(word, \"ALIZE\")) > 0:\n",
        "      return stem(word, \"ALIZE\") + \"AL\"\n",
        "  elif suffix(word, \"ICITI\") and m(stem(word, \"ICITI\")) > 0:\n",
        "      return stem(word, \"ICITI\") + \"IC\"\n",
        "  elif suffix(word, \"ICAL\") and m(stem(word, \"ICAL\")) > 0:\n",
        "      return stem(word, \"ICAL\") + \"IC\"\n",
        "  elif suffix(word, \"FUL\") and m(stem(word, \"FUL\")) > 0:\n",
        "      return stem(word, \"FUL\")\n",
        "  elif suffix(word, \"NESS\") and m(stem(word, \"NESS\")) > 0:\n",
        "      return stem(word, \"NESS\")\n",
        "  else:\n",
        "      return word"
      ],
      "metadata": {
        "id": "PLJ68PPNKBb5"
      },
      "execution_count": null,
      "outputs": []
    },
    {
      "cell_type": "code",
      "source": [
        "def step4(word):\n",
        "  if suffix(word, \"AL\") and m(stem(word, \"AL\")) > 1:\n",
        "    return stem(word, \"AL\")\n",
        "  elif suffix(word, \"ANCE\") and m(stem(word, \"ANCE\")) > 1:\n",
        "      return stem(word, \"ANCE\")\n",
        "  elif suffix(word, \"ENCE\") and m(stem(word, \"ENCE\")) > 1:\n",
        "      return stem(word, \"ENCE\")\n",
        "  elif suffix(word, \"ER\") and m(stem(word, \"ER\")) > 1:\n",
        "      return stem(word, \"ER\")\n",
        "  elif suffix(word, \"IC\") and m(stem(word, \"IC\")) > 1:\n",
        "      return stem(word, \"IC\")\n",
        "  elif suffix(word, \"ABLE\") and m(stem(word, \"ABLE\")) > 1:\n",
        "      return stem(word, \"ABLE\")\n",
        "  elif suffix(word, \"IBLE\") and m(stem(word, \"IBLE\")) > 1:\n",
        "      return stem(word, \"IBLE\")\n",
        "  elif suffix(word, \"ANT\") and m(stem(word, \"ANT\")) > 1:\n",
        "      return stem(word, \"ANT\")\n",
        "  elif suffix(word, \"EMENT\") and m(stem(word, \"EMENT\")) > 1:\n",
        "      return stem(word, \"EMENT\")\n",
        "  elif suffix(word, \"MENT\") and m(stem(word, \"MENT\")) > 1:\n",
        "      return stem(word, \"MENT\")\n",
        "  elif suffix(word, \"ENT\") and m(stem(word, \"ENT\")) > 1:\n",
        "      return stem(word, \"ENT\")\n",
        "  elif suffix(word, \"ION\") and m(stem(word, \"ION\")) > 1 and (star_letter(stem(word, \"ION\"), \"S\") or star_letter(stem(word, \"ION\"), \"T\")):\n",
        "      return stem(word, \"ION\")\n",
        "  elif suffix(word, \"OU\") and m(stem(word, \"OU\")) > 1:\n",
        "      return stem(word, \"OU\")\n",
        "  elif suffix(word, \"ISM\") and m(stem(word, \"ISM\")) > 1:\n",
        "      return stem(word, \"ISM\")\n",
        "  elif suffix(word, \"ATE\") and m(stem(word, \"ATE\")) > 1:\n",
        "      return stem(word, \"ATE\")\n",
        "  elif suffix(word, \"ITI\") and m(stem(word, \"ITI\")) > 1:\n",
        "      return stem(word, \"ITI\")\n",
        "  elif suffix(word, \"OUS\") and m(stem(word, \"OUS\")) > 1:\n",
        "      return stem(word, \"OUS\")\n",
        "  elif suffix(word, \"IVE\") and m(stem(word, \"IVE\")) > 1:\n",
        "      return stem(word, \"IVE\")\n",
        "  elif suffix(word, \"IZE\") and m(stem(word, \"IZE\")) > 1:\n",
        "      return stem(word, \"IZE\")\n",
        "  else:\n",
        "      return word"
      ],
      "metadata": {
        "id": "ToNGET63KG9O"
      },
      "execution_count": null,
      "outputs": []
    },
    {
      "cell_type": "code",
      "source": [
        "def step5a(word):\n",
        "  if suffix(word, \"E\") and m(stem(word, \"E\")) > 1:\n",
        "    return stem(word, \"E\")\n",
        "  elif suffix(word, \"E\") and not star_o(stem(word, \"E\")):\n",
        "    return stem(word, \"E\")\n",
        "  else:\n",
        "    return word"
      ],
      "metadata": {
        "id": "UKWkLs7zKKJm"
      },
      "execution_count": null,
      "outputs": []
    },
    {
      "cell_type": "code",
      "source": [
        "def step5b(word):\n",
        "  if m(word) > 1 and star_d(word) and star_letter(word, \"L\"):\n",
        "    return word[:-1]\n",
        "  return word"
      ],
      "metadata": {
        "id": "PWodcB0jKMEj"
      },
      "execution_count": null,
      "outputs": []
    },
    {
      "cell_type": "code",
      "source": [
        "step5b(\"CONTROLL\")"
      ],
      "metadata": {
        "colab": {
          "base_uri": "https://localhost:8080/",
          "height": 36
        },
        "id": "gKdOu45BkKhi",
        "outputId": "3b414135-26f3-4f89-f3bc-9cae8d2dfa65"
      },
      "execution_count": null,
      "outputs": [
        {
          "output_type": "execute_result",
          "data": {
            "text/plain": [
              "'CONTROL'"
            ],
            "application/vnd.google.colaboratory.intrinsic+json": {
              "type": "string"
            }
          },
          "metadata": {},
          "execution_count": 40
        }
      ]
    },
    {
      "cell_type": "code",
      "source": [
        "step5b(\"ROLL\")"
      ],
      "metadata": {
        "colab": {
          "base_uri": "https://localhost:8080/",
          "height": 36
        },
        "id": "v86drMl3kNpF",
        "outputId": "290d706a-6206-41c7-95a3-44602612e6cf"
      },
      "execution_count": null,
      "outputs": [
        {
          "output_type": "execute_result",
          "data": {
            "text/plain": [
              "'ROLL'"
            ],
            "application/vnd.google.colaboratory.intrinsic+json": {
              "type": "string"
            }
          },
          "metadata": {},
          "execution_count": 41
        }
      ]
    },
    {
      "cell_type": "code",
      "source": [
        "def stemmer(paragraph):\n",
        "  tokens = nltk.word_tokenize(paragraph)\n",
        "  new_tokens = []\n",
        "  for word in tokens:\n",
        "    new_word = step1a(word)\n",
        "    new_word = step1b(new_word)\n",
        "    new_word = step1c(new_word)\n",
        "    new_word = step2(new_word)\n",
        "    new_word = step3(new_word)\n",
        "    new_word = step4(new_word)\n",
        "    new_word = step5a(new_word)\n",
        "    new_word = step5b(new_word)\n",
        "    new_tokens.append(new_word)\n",
        "  new_para = ' '.join(new_tokens)\n",
        "  return new_para.lower()"
      ],
      "metadata": {
        "id": "pMT6LyahM1UK"
      },
      "execution_count": null,
      "outputs": []
    },
    {
      "cell_type": "markdown",
      "source": [
        "preprocessing paragraph"
      ],
      "metadata": {
        "id": "hyip2UoUmoY4"
      }
    },
    {
      "cell_type": "code",
      "source": [
        "import nltk"
      ],
      "metadata": {
        "id": "hhHW9DgWOBqP"
      },
      "execution_count": null,
      "outputs": []
    },
    {
      "cell_type": "code",
      "source": [
        "nltk.download('punkt')"
      ],
      "metadata": {
        "colab": {
          "base_uri": "https://localhost:8080/"
        },
        "id": "aOuwihhSN-w_",
        "outputId": "29afbc02-53cf-4121-9a61-5a12738bdccd"
      },
      "execution_count": null,
      "outputs": [
        {
          "output_type": "stream",
          "name": "stderr",
          "text": [
            "[nltk_data] Downloading package punkt to /root/nltk_data...\n",
            "[nltk_data]   Package punkt is already up-to-date!\n"
          ]
        },
        {
          "output_type": "execute_result",
          "data": {
            "text/plain": [
              "True"
            ]
          },
          "metadata": {},
          "execution_count": 43
        }
      ]
    },
    {
      "cell_type": "code",
      "source": [
        "import string\n",
        "import re\n",
        "def removePunc(text):\n",
        "  l = nltk.word_tokenize(text)\n",
        "  ll = [x for x in l if not re.fullmatch('[' + string.punctuation + ']+', x)]\n",
        "  return ' '.join(ll)"
      ],
      "metadata": {
        "id": "PpjPnaQWNxUD"
      },
      "execution_count": null,
      "outputs": []
    },
    {
      "cell_type": "code",
      "source": [
        "%pip install num2words"
      ],
      "metadata": {
        "colab": {
          "base_uri": "https://localhost:8080/"
        },
        "id": "i6NEuHAKOhr7",
        "outputId": "f766a5af-4995-49da-e312-c4d3a0cd3103"
      },
      "execution_count": null,
      "outputs": [
        {
          "output_type": "stream",
          "name": "stdout",
          "text": [
            "Requirement already satisfied: num2words in /usr/local/lib/python3.10/dist-packages (0.5.13)\n",
            "Requirement already satisfied: docopt>=0.6.2 in /usr/local/lib/python3.10/dist-packages (from num2words) (0.6.2)\n"
          ]
        }
      ]
    },
    {
      "cell_type": "code",
      "source": [
        "from num2words import num2words\n",
        "def number2words(text):\n",
        "  word_tokens = nltk.word_tokenize(text)\n",
        "  for i, w in enumerate(word_tokens):\n",
        "    try:\n",
        "      if float(w):\n",
        "        word_tokens[i] = num2words(w)\n",
        "    except:\n",
        "      continue\n",
        "  return ' '.join(word_tokens)"
      ],
      "metadata": {
        "id": "Ux7Pq1yoOX2a"
      },
      "execution_count": null,
      "outputs": []
    },
    {
      "cell_type": "code",
      "source": [
        "from nltk.corpus import stopwords\n",
        "\n",
        "nltk.download('stopwords')\n",
        "print(stopwords.words('english'))"
      ],
      "metadata": {
        "colab": {
          "base_uri": "https://localhost:8080/"
        },
        "id": "E09n_AablaJ7",
        "outputId": "42eed8bd-a80c-4b84-ab5d-720984fa7e02"
      },
      "execution_count": null,
      "outputs": [
        {
          "output_type": "stream",
          "name": "stdout",
          "text": [
            "['i', 'me', 'my', 'myself', 'we', 'our', 'ours', 'ourselves', 'you', \"you're\", \"you've\", \"you'll\", \"you'd\", 'your', 'yours', 'yourself', 'yourselves', 'he', 'him', 'his', 'himself', 'she', \"she's\", 'her', 'hers', 'herself', 'it', \"it's\", 'its', 'itself', 'they', 'them', 'their', 'theirs', 'themselves', 'what', 'which', 'who', 'whom', 'this', 'that', \"that'll\", 'these', 'those', 'am', 'is', 'are', 'was', 'were', 'be', 'been', 'being', 'have', 'has', 'had', 'having', 'do', 'does', 'did', 'doing', 'a', 'an', 'the', 'and', 'but', 'if', 'or', 'because', 'as', 'until', 'while', 'of', 'at', 'by', 'for', 'with', 'about', 'against', 'between', 'into', 'through', 'during', 'before', 'after', 'above', 'below', 'to', 'from', 'up', 'down', 'in', 'out', 'on', 'off', 'over', 'under', 'again', 'further', 'then', 'once', 'here', 'there', 'when', 'where', 'why', 'how', 'all', 'any', 'both', 'each', 'few', 'more', 'most', 'other', 'some', 'such', 'no', 'nor', 'not', 'only', 'own', 'same', 'so', 'than', 'too', 'very', 's', 't', 'can', 'will', 'just', 'don', \"don't\", 'should', \"should've\", 'now', 'd', 'll', 'm', 'o', 're', 've', 'y', 'ain', 'aren', \"aren't\", 'couldn', \"couldn't\", 'didn', \"didn't\", 'doesn', \"doesn't\", 'hadn', \"hadn't\", 'hasn', \"hasn't\", 'haven', \"haven't\", 'isn', \"isn't\", 'ma', 'mightn', \"mightn't\", 'mustn', \"mustn't\", 'needn', \"needn't\", 'shan', \"shan't\", 'shouldn', \"shouldn't\", 'wasn', \"wasn't\", 'weren', \"weren't\", 'won', \"won't\", 'wouldn', \"wouldn't\"]\n"
          ]
        },
        {
          "output_type": "stream",
          "name": "stderr",
          "text": [
            "[nltk_data] Downloading package stopwords to /root/nltk_data...\n",
            "[nltk_data]   Unzipping corpora/stopwords.zip.\n"
          ]
        }
      ]
    },
    {
      "cell_type": "code",
      "source": [
        "def removeStopWords(text):\n",
        "  stop_words = set(stopwords.words('english'))\n",
        "  word_tokens = nltk.word_tokenize(text)\n",
        "  filtered_sentence = [w for w in word_tokens if not w.lower() in stop_words]\n",
        "  return ' '.join(filtered_sentence)"
      ],
      "metadata": {
        "id": "1peXiQQBlXDZ"
      },
      "execution_count": null,
      "outputs": []
    },
    {
      "cell_type": "code",
      "source": [
        "paragraph = \"Standing at the front and center was Xi Jinping, a powerful leader from China, surrounded by a stage of leaders from emerging markets and developing countries across Africa, Asia and Latin America. The summit was the largest the BRICS have ever held, with more than 60 countries attending alongside member nations Brazil, Russia, India, China and South Africa.\"\n",
        "paragraph"
      ],
      "metadata": {
        "colab": {
          "base_uri": "https://localhost:8080/",
          "height": 72
        },
        "id": "lQMLHBxSWKTr",
        "outputId": "f2d57818-5338-4353-b73c-e41ea7224b33"
      },
      "execution_count": null,
      "outputs": [
        {
          "output_type": "execute_result",
          "data": {
            "text/plain": [
              "'Standing at the front and center was Xi Jinping, a powerful leader from China, surrounded by a stage of leaders from emerging markets and developing countries across Africa, Asia and Latin America. The summit was the largest the BRICS have ever held, with more than 60 countries attending alongside member nations Brazil, Russia, India, China and South Africa.'"
            ],
            "application/vnd.google.colaboratory.intrinsic+json": {
              "type": "string"
            }
          },
          "metadata": {},
          "execution_count": 50
        }
      ]
    },
    {
      "cell_type": "code",
      "source": [
        "para = number2words(paragraph)\n",
        "para = removePunc(para)\n",
        "para = removeStopWords(para)\n",
        "para = para.upper()\n",
        "stemmer(para)"
      ],
      "metadata": {
        "colab": {
          "base_uri": "https://localhost:8080/",
          "height": 54
        },
        "id": "vSuEjlZDW3b7",
        "outputId": "d9c8735a-e9ca-4e6e-dcef-114f6f36ea22"
      },
      "execution_count": null,
      "outputs": [
        {
          "output_type": "execute_result",
          "data": {
            "text/plain": [
              "'stand front center xi jinp power leader china surround stage leader emerg market develop countri acros africa asia latin america summit largest bric ever held sixti countri attend alongsid member nation brazil russia india china south africa'"
            ],
            "application/vnd.google.colaboratory.intrinsic+json": {
              "type": "string"
            }
          },
          "metadata": {},
          "execution_count": 51
        }
      ]
    },
    {
      "cell_type": "markdown",
      "source": [
        "NLTK"
      ],
      "metadata": {
        "id": "ieCeKMyqX5jn"
      }
    },
    {
      "cell_type": "code",
      "source": [
        "from nltk.stem import PorterStemmer\n",
        "from functools import reduce\n",
        "\n",
        "ps = PorterStemmer()\n",
        "words = nltk.word_tokenize(para)\n",
        "reduce(lambda x, y: x + \" \" + ps.stem(y), words, \"\")"
      ],
      "metadata": {
        "colab": {
          "base_uri": "https://localhost:8080/",
          "height": 54
        },
        "id": "xR22G7IxX9oy",
        "outputId": "990b1ee0-0c90-4d7e-8b7b-73d3aa783129"
      },
      "execution_count": null,
      "outputs": [
        {
          "output_type": "execute_result",
          "data": {
            "text/plain": [
              "' stand front center xi jinp power leader china surround stage leader emerg market develop countri across africa asia latin america summit largest bric ever held sixti countri attend alongsid member nation brazil russia india china south africa'"
            ],
            "application/vnd.google.colaboratory.intrinsic+json": {
              "type": "string"
            }
          },
          "metadata": {},
          "execution_count": 52
        }
      ]
    },
    {
      "cell_type": "code",
      "source": [],
      "metadata": {
        "id": "q_E8yX8MlNIG"
      },
      "execution_count": null,
      "outputs": []
    }
  ]
}